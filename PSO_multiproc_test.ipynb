{
 "cells": [
  {
   "cell_type": "code",
   "execution_count": 3,
   "id": "c77fc8a8",
   "metadata": {},
   "outputs": [],
   "source": [
    "#   Shobhit Ranjan\n",
    "#   Simple Particle Swarm Optimization (PSO) Parallelization Test\n",
    "\n",
    "\n",
    "from __future__ import division\n",
    "import random\n",
    "import math\n",
    "\n",
    "#--- COST FUNCTION ------------------------------------------------------------+\n",
    "\n",
    "# function we are attempting to optimize (minimize)\n",
    "def func1(x):\n",
    "    total=0\n",
    "    for i in range(len(x)):\n",
    "        total+=x[i]**2\n",
    "    return total\n",
    "\n",
    "\n",
    "class Particle:\n",
    "    def __init__(self,x0):\n",
    "        self.position_i=[]       # particle position\n",
    "        self.velocity_i=[]       # particle velocity\n",
    "        self.pos_best_i=[]       # best position individual\n",
    "        self.err_best_i=-1       # best error individual\n",
    "        self.err_i=-1            # error individual\n",
    "        self.trial1 = 0\n",
    "        self.trial2 = 0\n",
    "        self.trial3 = 0\n",
    "\n",
    "        for i in range(0,num_dimensions):\n",
    "            self.velocity_i.append(random.uniform(-1,1))\n",
    "            self.position_i.append(x0[i])\n",
    "\n",
    "    # evaluate current fitness\n",
    "    def evaluate(self,costFunc):\n",
    "        self.err_i=costFunc(self.position_i)\n",
    "\n",
    "        # check to see if the current position is an individual best\n",
    "        if self.err_i < self.err_best_i or self.err_best_i==-1:\n",
    "            self.pos_best_i=self.position_i\n",
    "            self.err_best_i=self.err_i\n",
    "\n",
    "    # update new particle velocity\n",
    "    def update_velocity(self,pos_best_g):\n",
    "        w=0.5     # constant inertia weight (how much to weigh the previous velocity)\n",
    "        c1=1      # cognative constant\n",
    "        c2=2      # social constant\n",
    "\n",
    "        for i in range(0,num_dimensions):\n",
    "            r1=random.random()\n",
    "            r2=random.random()\n",
    "\n",
    "            vel_cognitive=c1*r1*(self.pos_best_i[i]-self.position_i[i])\n",
    "            vel_social=c2*r2*(pos_best_g[i]-self.position_i[i])\n",
    "            self.velocity_i[i]=w*self.velocity_i[i]+vel_cognitive+vel_social\n",
    "\n",
    "    # update the particle position based off new velocity updates\n",
    "    def update_position(self,bounds):\n",
    "        for i in range(0,num_dimensions):\n",
    "            self.position_i[i]=self.position_i[i]+self.velocity_i[i]\n",
    "\n",
    "            # adjust maximum position if necessary\n",
    "            if self.position_i[i]>bounds[i][1]:\n",
    "                self.position_i[i]=bounds[i][1]\n",
    "\n",
    "            # adjust minimum position if neseccary\n",
    "            if self.position_i[i] < bounds[i][0]:\n",
    "                self.position_i[i]=bounds[i][0]\n",
    "                \n",
    "class PSO():\n",
    "    def __init__(self,costFunc,x0,bounds,num_particles,maxiter):\n",
    "        global num_dimensions\n",
    "\n",
    "        num_dimensions=len(x0)\n",
    "        self.err_best_g=-1            # best error for group\n",
    "        self.pos_best_g=[]            # best position for group\n",
    "        self.trial4 = 0\n",
    "        # establish the swarm\n",
    "        swarm=[]\n",
    "        self.sw=swarm\n",
    "        self.n = num_particles\n",
    "        for i in range(0,num_particles):\n",
    "            swarm.append(Particle(x0))\n",
    "\n",
    "        # begin optimization loop\n",
    "        i=0\n",
    "        while i < maxiter:\n",
    "            #print i,err_best_g\n",
    "            # cycle through particles in swarm and evaluate fitness\n",
    "            for j in range(0,num_particles):\n",
    "                swarm[j].evaluate(costFunc)\n",
    "\n",
    "                # determine if current particle is the best (globally)\n",
    "                if swarm[j].err_i < self.err_best_g or self.err_best_g == -1:\n",
    "                    self.pos_best_g=list(swarm[j].position_i)\n",
    "                    self.err_best_g=float(swarm[j].err_i)\n",
    "\n",
    "            # cycle through swarm and update velocities and position\n",
    "            for j in range(0,num_particles):\n",
    "                swarm[j].update_velocity(self.pos_best_g)\n",
    "                swarm[j].update_position(bounds)\n",
    "            i+=1\n",
    "\n",
    "    def evolve(self):\n",
    "        self.bruh()\n",
    "        return self.pos_best_g,self.err_best_g\n",
    "    \n",
    "    def bruh(self):\n",
    "        for i in range(0,self.n):\n",
    "            self.sw[i].trial1 = 1\n",
    "            self.sw[i].trial2 = 2\n",
    "            self.sw[i].trial3 = 3\n",
    "            self.trial4 = 4\n",
    "            \n",
    "    def fin(self):\n",
    "        self.evolve()\n",
    "        for i in range(0,self.n):\n",
    "            print (self.sw[i].trial1, self.sw[i].trial2, self.sw[i].trial3,self.trial4 )\n",
    "    def nofin(self):\n",
    "        self.evolve()\n",
    "        for i in range(0,self.n):\n",
    "            self.sw[i].trial1 = 10\n",
    "            self.sw[i].trial2 = 20\n",
    "            self.sw[i].trial3 = 30\n",
    "            self.trial4 = 40\n",
    "        for i in range(0,self.n):\n",
    "            print (self.sw[i].trial1, self.sw[i].trial2, self.sw[i].trial3,self.trial4 )\n",
    "            "
   ]
  },
  {
   "cell_type": "code",
   "execution_count": 4,
   "id": "ff1aacb8",
   "metadata": {},
   "outputs": [
    {
     "name": "stdout",
     "output_type": "stream",
     "text": [
      "[0.0009331896666508825, -0.0006919642338911287] 1.3496574549285218e-06\n"
     ]
    }
   ],
   "source": [
    "#--- TEST RUN ----------------------------------------------------------------------+\n",
    "\n",
    "if __name__ == \"__PSO__\":\n",
    "    main()\n",
    "\n",
    "initial=[5,5]               # initial starting location [x1,x2...]\n",
    "bounds=[(-10,10),(-10,10)]  # input bounds [(x1_min,x1_max),(x2_min,x2_max)...]\n",
    "k = PSO(func1,initial,bounds,num_particles=15,maxiter=30)\n",
    "a,b = k.evolve()\n",
    "print(a,b)"
   ]
  },
  {
   "cell_type": "code",
   "execution_count": 5,
   "id": "327aaa1a",
   "metadata": {},
   "outputs": [
    {
     "name": "stdout",
     "output_type": "stream",
     "text": [
      "Number of cpu :  8\n"
     ]
    }
   ],
   "source": [
    "#-------CHECK NUMBER OF AVAILABLE CPUs-----------------------------------------------+\n",
    "import multiprocessing\n",
    "\n",
    "print(\"Number of cpu : \", multiprocessing.cpu_count())"
   ]
  },
  {
   "cell_type": "code",
   "execution_count": 6,
   "id": "453c876b",
   "metadata": {},
   "outputs": [],
   "source": [
    "#---------FUNCTION TO HANDLE INPUTS TO THE SWARM CLASS--------------------------------+\n",
    "import time\n",
    "def play(num_particles):\n",
    "    maxiter = num_particles\n",
    "    #noof_swarms = 2\n",
    "    pos = []\n",
    "    err = []\n",
    "    #for i in range(noof_swarms):\n",
    "    k = PSO(func1,initial,bounds,num_particles,maxiter)\n",
    "    a, b = k.evolve()\n",
    "    pos.append(a)\n",
    "    err.append(b)\n",
    "    return (pos,err)\n",
    "    #k.fin()"
   ]
  },
  {
   "cell_type": "markdown",
   "id": "a718beb3",
   "metadata": {},
   "source": [
    "# Single Core Implementation"
   ]
  },
  {
   "cell_type": "code",
   "execution_count": 8,
   "id": "5cbccf26",
   "metadata": {},
   "outputs": [
    {
     "name": "stdout",
     "output_type": "stream",
     "text": [
      "Single core, 4 swarms: 13.129693984985352 seconds\n"
     ]
    }
   ],
   "source": [
    "#----------SINGLE CORE IMPLEMENTATION----------------------------------------------------+\n",
    "import time\n",
    "start = time.time()   #start time\n",
    "\n",
    "num_particles=1000                                    \n",
    "noof_swarms=4\n",
    "for i in range(noof_swarms):\n",
    "    play(num_particles)\n",
    "    \n",
    "end = time.time()     #end time\n",
    "ev1 = end - start     #time taken\n",
    "\n",
    "\n",
    "print(\"Single core, 4 swarms:\",ev1,\"seconds\")"
   ]
  },
  {
   "cell_type": "markdown",
   "id": "4d796e23",
   "metadata": {},
   "source": [
    "# Multicore implementation"
   ]
  },
  {
   "cell_type": "code",
   "execution_count": 11,
   "id": "d83c98c9",
   "metadata": {},
   "outputs": [
    {
     "name": "stdout",
     "output_type": "stream",
     "text": [
      "4 cores, 4 swarms: 4.277662992477417 seconds\n"
     ]
    }
   ],
   "source": [
    "#----------MULTIPLE CORE (4 CORE) IMPLEMENTATION-----------------------------------------+\n",
    "import multiprocessing\n",
    "import threading\n",
    "import time\n",
    "\n",
    "start = time.time() #start time\n",
    "\n",
    "\n",
    "noof_swarms = 4\n",
    "num_particles=1000\n",
    "proc = []\n",
    "for i in range(noof_swarms):\n",
    "    pp = multiprocessing.Process(target = play, args=(num_particles,))\n",
    "    #pp = threading.Thread(target = play, args=(1500,1500))\n",
    "    proc.append(pp)\n",
    "for k in proc:\n",
    "    k.start()\n",
    "    #print(\"process:\",k)\n",
    "for k in proc:\n",
    "    k.join()\n",
    "    \n",
    "    \n",
    "end = time.time()  #end time\n",
    "ev2 = end - start  #time taken \n",
    "\n",
    "print(\"4 cores, 4 swarms:\",ev2,\"seconds\")"
   ]
  },
  {
   "cell_type": "markdown",
   "id": "672db41a",
   "metadata": {},
   "source": [
    "# Multithread implementation"
   ]
  },
  {
   "cell_type": "code",
   "execution_count": 13,
   "id": "02bbe338",
   "metadata": {},
   "outputs": [
    {
     "name": "stdout",
     "output_type": "stream",
     "text": [
      "4 threads, 4 swarms: 13.574320793151855 seconds\n"
     ]
    }
   ],
   "source": [
    "#-----------MULTI THREAD IMPLEMENTATION----------------------------------------------------+\n",
    "import multiprocessing\n",
    "import threading\n",
    "import time\n",
    "start = time.time()\n",
    "noof_swarms = 4\n",
    "num_particles=1000\n",
    "proc = []\n",
    "for i in range(noof_swarms):\n",
    "    pp = threading.Thread(target = play, args=(num_particles,))\n",
    "    #pp = threading.Thread(target = play, args=(1500,1500))\n",
    "    proc.append(pp)\n",
    "for k in proc:\n",
    "    k.start()\n",
    "    #print(\"process:\",k)\n",
    "for k in proc:\n",
    "    k.join()\n",
    "end = time.time()\n",
    "ev2 = end - start\n",
    "print(\"4 threads, 4 swarms:\",ev2,\"seconds\")"
   ]
  },
  {
   "cell_type": "markdown",
   "id": "3e6ef144",
   "metadata": {},
   "source": [
    "We can clearly see that for the same execution, time taken is multithreading > single core > multi core"
   ]
  },
  {
   "cell_type": "code",
   "execution_count": null,
   "id": "5ea8e153",
   "metadata": {},
   "outputs": [],
   "source": []
  }
 ],
 "metadata": {
  "kernelspec": {
   "display_name": "Python 3",
   "language": "python",
   "name": "python3"
  },
  "language_info": {
   "codemirror_mode": {
    "name": "ipython",
    "version": 3
   },
   "file_extension": ".py",
   "mimetype": "text/x-python",
   "name": "python",
   "nbconvert_exporter": "python",
   "pygments_lexer": "ipython3",
   "version": "3.8.8"
  }
 },
 "nbformat": 4,
 "nbformat_minor": 5
}
